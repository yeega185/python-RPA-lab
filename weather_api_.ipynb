{
  "nbformat": 4,
  "nbformat_minor": 0,
  "metadata": {
    "colab": {
      "provenance": [],
      "authorship_tag": "ABX9TyN8WF6fViFP3HB02wpEoG2B",
      "include_colab_link": true
    },
    "kernelspec": {
      "name": "python3",
      "display_name": "Python 3"
    },
    "language_info": {
      "name": "python"
    }
  },
  "cells": [
    {
      "cell_type": "markdown",
      "metadata": {
        "id": "view-in-github",
        "colab_type": "text"
      },
      "source": [
        "<a href=\"https://colab.research.google.com/github/yeega185/python-RPA-lab/blob/main/weather_api_.ipynb\" target=\"_parent\"><img src=\"https://colab.research.google.com/assets/colab-badge.svg\" alt=\"Open In Colab\"/></a>"
      ]
    },
    {
      "cell_type": "code",
      "execution_count": 1,
      "metadata": {
        "id": "l63qu4ZHrpOD",
        "colab": {
          "base_uri": "https://localhost:8080/"
        },
        "outputId": "286b0042-ef77-4e9a-e218-6c309af19b2e"
      },
      "outputs": [
        {
          "output_type": "stream",
          "name": "stdout",
          "text": [
            "2025-07-24 16:38\n",
            "2025-07-25 16:38\n",
            "https://api.openweathermap.org/data/2.5/weather?q=['Taipei,tw', 'Taoyuan,tw', 'Hsinchu,tw', 'Taichung,tw', 'Tainan,tw', 'Kaohsiung,tw']&appid=2ee72ba9f03b56b7620f04b835f39854&units=metric&lang=zh_tw\n"
          ]
        }
      ],
      "source": [
        "import requests              # 安裝API套件\n",
        "import csv                # 把資料寫進CSV檔案\n",
        "from datetime import datetime, timedelta      # 取得今天日期與時間\n",
        "\n",
        "API_KEY = \"2ee72ba9f03b56b7620f04b835f39854\"        # <-- 換成你的 OpenWeatherMap API key\n",
        "CITIES = [\"Taipei,tw\", \"Taoyuan,tw\", \"Hsinchu,tw\", \"Taichung,tw\", \"Tainan,tw\", \"Kaohsiung,tw\"]   # 多個城市查詢 台北、桃園、新竹、台中、台南、高雄\n",
        "\n",
        "\n",
        "url = f\"https://api.openweathermap.org/data/2.5/weather?q={CITIES}&appid={API_KEY}&units=metric&lang=zh_tw\"\n",
        "\n",
        "now = datetime.now().strftime('%Y-%m-%d %H:%M')               #現在的日期\n",
        "tomorrow_str = (datetime.now() + timedelta(days=1)).strftime('%Y-%m-%d %H:%M')  #明天的日期\n",
        "rows = []\n",
        "\n",
        "print(now)\n",
        "print(tomorrow_str)\n",
        "print(url)\n",
        "\n",
        "\n"
      ]
    },
    {
      "cell_type": "code",
      "source": [
        "for city in CITIES:\n",
        "  # 1. 抓現在天氣\n",
        "  url_now = f\"https://api.openweathermap.org/data/2.5/weather?q={city}&appid={API_KEY}&units=metric&lang=zh_tw\"\n",
        "  now_data = requests.get(url_now).json()\n",
        "  now_weather = now_data['weather'][0]['description'] if 'weather' in now_data else 'N/A'\n",
        "  now_temp = now_data['main']['temp'] if 'main' in now_data else 'N/A'\n",
        "\n",
        "  # 2. 抓5天3小時預報\n",
        "  url_fc = f\"https://api.openweathermap.org/data/2.5/forecast?q={city}&appid={API_KEY}&units=metric&lang=zh_tw\"\n",
        "  fc_data = requests.get(url_fc).json()\n",
        "  # 三小時後\n",
        "  three_hr = fc_data['list'][0]\n",
        "  th_weather = three_hr['weather'][0]['description']\n",
        "  th_temp = three_hr['main']['temp']\n",
        "  # 明天12:00\n",
        "  tomorrow_weather = next((item for item in fc_data['list'] if tomorrow_str in item['dt_txt'] and \"12:00:00\" in item['dt_txt']), None)\n",
        "  if tomorrow_weather:\n",
        "      tm_weather = tomorrow_weather['weather'][0]['description']\n",
        "      tm_temp = tomorrow_weather['main']['temp']\n",
        "  else:\n",
        "      tm_weather = tm_temp = 'N/A'\n",
        "  # 這週每天12:00\n",
        "  week_fc = [item for item in fc_data['list'] if \"12:00:00\" in item['dt_txt']]\n",
        "  # 儲存/印出\n",
        "  print(f\"{city}：\")\n",
        "  print(f\"  現在天氣：{now_weather}，{now_temp}°C\")\n",
        "  print(f\"  三小時後：{th_weather}，{th_temp}°C\")\n",
        "  print(f\"  明天12:00：{tm_weather}，{tm_temp}°C\")\n",
        "  print(\"  這週預報（每天12:00）：\")\n",
        "  for w in week_fc:\n",
        "    day = w['dt_txt'].split(\" \")[0]\n",
        "    desc = w['weather'][0]['description']\n",
        "    temp = w['main']['temp']\n",
        "    print(f\"    {day}：{desc}，{temp}°C\")\n",
        "  print()\n",
        "\n",
        "  # 若你要存成csv，可以自己定義欄位，這裡只示範寫一筆資料\n",
        "  rows.append([city, now_weather, now_temp, th_weather, th_temp, tm_weather, tm_temp])"
      ],
      "metadata": {
        "colab": {
          "base_uri": "https://localhost:8080/"
        },
        "id": "4nLtwSQMji4b",
        "outputId": "ecd2ab88-5c29-48b7-8612-92491395a309"
      },
      "execution_count": 2,
      "outputs": [
        {
          "output_type": "stream",
          "name": "stdout",
          "text": [
            "Taipei,tw：\n",
            "  現在天氣：多雲，27°C\n",
            "  三小時後：小雨，27°C\n",
            "  明天12:00：N/A，N/A°C\n",
            "  這週預報（每天12:00）：\n",
            "    2025-07-25：小雨，26.54°C\n",
            "    2025-07-26：小雨，25.59°C\n",
            "    2025-07-27：陰，多雲，26.07°C\n",
            "    2025-07-28：小雨，27.67°C\n",
            "    2025-07-29：小雨，27.69°C\n",
            "\n",
            "Taoyuan,tw：\n",
            "  現在天氣：多雲，26.53°C\n",
            "  三小時後：小雨，26.53°C\n",
            "  明天12:00：N/A，N/A°C\n",
            "  這週預報（每天12:00）：\n",
            "    2025-07-25：小雨，26.29°C\n",
            "    2025-07-26：小雨，25.55°C\n",
            "    2025-07-27：小雨，25.71°C\n",
            "    2025-07-28：中雨，26.68°C\n",
            "    2025-07-29：中雨，26.13°C\n",
            "\n",
            "Hsinchu,tw：\n",
            "  現在天氣：晴，少雲，27.16°C\n",
            "  三小時後：小雨，27.16°C\n",
            "  明天12:00：N/A，N/A°C\n",
            "  這週預報（每天12:00）：\n",
            "    2025-07-25：中雨，26.83°C\n",
            "    2025-07-26：陰，多雲，26.8°C\n",
            "    2025-07-27：小雨，25.94°C\n",
            "    2025-07-28：中雨，26.93°C\n",
            "    2025-07-29：小雨，27.6°C\n",
            "\n",
            "Taichung,tw：\n",
            "  現在天氣：多雲，27.7°C\n",
            "  三小時後：中雨，27.7°C\n",
            "  明天12:00：N/A，N/A°C\n",
            "  這週預報（每天12:00）：\n",
            "    2025-07-25：小雨，26.57°C\n",
            "    2025-07-26：陰，多雲，26.24°C\n",
            "    2025-07-27：小雨，24.89°C\n",
            "    2025-07-28：小雨，27.37°C\n",
            "    2025-07-29：小雨，25.64°C\n",
            "\n",
            "Tainan,tw：\n",
            "  現在天氣：多雲，27.95°C\n",
            "  三小時後：多雲，27.95°C\n",
            "  明天12:00：N/A，N/A°C\n",
            "  這週預報（每天12:00）：\n",
            "    2025-07-25：小雨，29.71°C\n",
            "    2025-07-26：小雨，28.64°C\n",
            "    2025-07-27：中雨，28.31°C\n",
            "    2025-07-28：中雨，28.25°C\n",
            "    2025-07-29：小雨，28.03°C\n",
            "\n",
            "Kaohsiung,tw：\n",
            "  現在天氣：多雲，28.97°C\n",
            "  三小時後：多雲，28.97°C\n",
            "  明天12:00：N/A，N/A°C\n",
            "  這週預報（每天12:00）：\n",
            "    2025-07-25：中雨，27.82°C\n",
            "    2025-07-26：小雨，28.61°C\n",
            "    2025-07-27：中雨，28.32°C\n",
            "    2025-07-28：中雨，28.03°C\n",
            "    2025-07-29：小雨，28.84°C\n",
            "\n"
          ]
        }
      ]
    },
    {
      "cell_type": "code",
      "source": [
        "# 寫入 csv\n",
        "with open(\"weather_summary.csv\", \"w\", encoding=\"utf-8-sig\", newline=\"\") as f:\n",
        "    writer = csv.writer(f)\n",
        "    writer.writerow([\"城市\", \"現在天氣\", \"現在溫度\", \"三小時後天氣\", \"三小時後溫度\", \"明天12:00天氣\", \"明天12:00溫度\"])\n",
        "    for row in rows:\n",
        "        writer.writerow(row)\n",
        "\n",
        "print(\"全部城市天氣摘要已寫入 weather_summary.csv\")"
      ],
      "metadata": {
        "colab": {
          "base_uri": "https://localhost:8080/"
        },
        "id": "dqyF5yfSpcJA",
        "outputId": "4a6e6b60-7d6f-480f-ae3d-7a0e70f56ba1"
      },
      "execution_count": 3,
      "outputs": [
        {
          "output_type": "stream",
          "name": "stdout",
          "text": [
            "全部城市天氣摘要已寫入 weather_summary.csv\n"
          ]
        }
      ]
    },
    {
      "cell_type": "markdown",
      "source": [
        "查詢現在目錄的檔案"
      ],
      "metadata": {
        "id": "wV8zLmuxn35u"
      }
    },
    {
      "cell_type": "code",
      "source": [
        "!ls /content"
      ],
      "metadata": {
        "colab": {
          "base_uri": "https://localhost:8080/"
        },
        "id": "RLhcsX8mn6tT",
        "outputId": "aef88530-a68e-4541-f422-f0b88e1421c1"
      },
      "execution_count": 4,
      "outputs": [
        {
          "output_type": "stream",
          "name": "stdout",
          "text": [
            "sample_data  weather_summary.csv\n"
          ]
        }
      ]
    },
    {
      "cell_type": "markdown",
      "source": [
        "## 將製作完成的weater.csv **檔案自動上傳到onedrive** **粗體文字**"
      ],
      "metadata": {
        "id": "KqeXAczfel1A"
      }
    },
    {
      "cell_type": "markdown",
      "source": [
        "安狀rclone"
      ],
      "metadata": {
        "id": "Hp8oFft1ffhV"
      }
    },
    {
      "cell_type": "code",
      "source": [
        "!curl https://rclone.org/install.sh | sudo bash"
      ],
      "metadata": {
        "colab": {
          "base_uri": "https://localhost:8080/"
        },
        "id": "L2l_yrt7e3MC",
        "outputId": "e5ca0567-cc71-43bf-acd0-7b5eb8ed8986"
      },
      "execution_count": 5,
      "outputs": [
        {
          "output_type": "stream",
          "name": "stdout",
          "text": [
            "  % Total    % Received % Xferd  Average Speed   Time    Time     Time  Current\n",
            "                                 Dload  Upload   Total   Spent    Left  Speed\n",
            "100  4734  100  4734    0     0   6252      0 --:--:-- --:--:-- --:--:--  6253\n",
            "Archive:  rclone-current-linux-amd64.zip\n",
            "   creating: tmp_unzip_dir_for_rclone/rclone-v1.70.3-linux-amd64/\n",
            "  inflating: tmp_unzip_dir_for_rclone/rclone-v1.70.3-linux-amd64/README.txt  [text]  \n",
            "  inflating: tmp_unzip_dir_for_rclone/rclone-v1.70.3-linux-amd64/git-log.txt  [text]  \n",
            "  inflating: tmp_unzip_dir_for_rclone/rclone-v1.70.3-linux-amd64/rclone  [binary]\n",
            "  inflating: tmp_unzip_dir_for_rclone/rclone-v1.70.3-linux-amd64/README.html  [text]  \n",
            "  inflating: tmp_unzip_dir_for_rclone/rclone-v1.70.3-linux-amd64/rclone.1  [text]  \n",
            "Purging old database entries in /usr/share/man...\n",
            "Processing manual pages under /usr/share/man...\n",
            "Updating index cache for path `/usr/share/man/man1'. Wait...done.\n",
            "Checking for stray cats under /usr/share/man...\n",
            "Checking for stray cats under /var/cache/man...\n",
            "Purging old database entries in /usr/share/man/cs...\n",
            "Processing manual pages under /usr/share/man/cs...\n",
            "Purging old database entries in /usr/share/man/ko...\n",
            "Processing manual pages under /usr/share/man/ko...\n",
            "Purging old database entries in /usr/share/man/tr...\n",
            "Processing manual pages under /usr/share/man/tr...\n",
            "Purging old database entries in /usr/share/man/de...\n",
            "Processing manual pages under /usr/share/man/de...\n",
            "Purging old database entries in /usr/share/man/nl...\n",
            "Processing manual pages under /usr/share/man/nl...\n",
            "Purging old database entries in /usr/share/man/pt...\n",
            "Processing manual pages under /usr/share/man/pt...\n",
            "Purging old database entries in /usr/share/man/pl...\n",
            "Processing manual pages under /usr/share/man/pl...\n",
            "Purging old database entries in /usr/share/man/zh_TW...\n",
            "Processing manual pages under /usr/share/man/zh_TW...\n",
            "Purging old database entries in /usr/share/man/da...\n",
            "Processing manual pages under /usr/share/man/da...\n",
            "Purging old database entries in /usr/share/man/zh_CN...\n",
            "Processing manual pages under /usr/share/man/zh_CN...\n",
            "Purging old database entries in /usr/share/man/sl...\n",
            "Processing manual pages under /usr/share/man/sl...\n",
            "Purging old database entries in /usr/share/man/it...\n",
            "Processing manual pages under /usr/share/man/it...\n",
            "Purging old database entries in /usr/share/man/sv...\n",
            "Processing manual pages under /usr/share/man/sv...\n",
            "Purging old database entries in /usr/share/man/id...\n",
            "Processing manual pages under /usr/share/man/id...\n",
            "Purging old database entries in /usr/share/man/pt_BR...\n",
            "Processing manual pages under /usr/share/man/pt_BR...\n",
            "Purging old database entries in /usr/share/man/es...\n",
            "Processing manual pages under /usr/share/man/es...\n",
            "Purging old database entries in /usr/share/man/fr...\n",
            "Processing manual pages under /usr/share/man/fr...\n",
            "Purging old database entries in /usr/share/man/ja...\n",
            "Processing manual pages under /usr/share/man/ja...\n",
            "Purging old database entries in /usr/share/man/hu...\n",
            "Processing manual pages under /usr/share/man/hu...\n",
            "Purging old database entries in /usr/share/man/ru...\n",
            "Processing manual pages under /usr/share/man/ru...\n",
            "Purging old database entries in /usr/share/man/ro...\n",
            "Processing manual pages under /usr/share/man/ro...\n",
            "Purging old database entries in /usr/share/man/uk...\n",
            "Processing manual pages under /usr/share/man/uk...\n",
            "Purging old database entries in /usr/share/man/sr...\n",
            "Processing manual pages under /usr/share/man/sr...\n",
            "Processing manual pages under /usr/local/man...\n",
            "mandb: can't update index cache /var/cache/man/oldlocal/653: No such file or directory\n",
            "Updating index cache for path `/usr/local/man/man1'. Wait...done.\n",
            "Checking for stray cats under /usr/local/man...\n",
            "Checking for stray cats under /var/cache/man/oldlocal...\n",
            "2 man subdirectories contained newer manual pages.\n",
            "54 manual pages were added.\n",
            "0 stray cats were added.\n",
            "17 old database entries were purged.\n",
            "\n",
            "rclone v1.70.3 has successfully installed.\n",
            "Now run \"rclone config\" for setup. Check https://rclone.org/docs/ for more details.\n",
            "\n"
          ]
        }
      ]
    },
    {
      "cell_type": "markdown",
      "source": [
        "利用rclone連線至onedrive"
      ],
      "metadata": {
        "id": "KK2ABS3RkTv3"
      }
    },
    {
      "cell_type": "code",
      "source": [
        "import os\n",
        "\n",
        "rclone_config = \"\"\"\n",
        "[onedrive]\n",
        "type = onedrive\n",
        "token = {\"access_token\":\"EwBIBMl6BAAUBKgm8k1UswUNwklmy2v7U/S+1fEAAb9LYkf03ml5Ehf5YtJ6BN+tIwdFXWng9M9/pEEkoOZIUSN+1oKoNe3d7FdbS0B6WzuZIbfxR7cO4z8dKDMB0U1BAvtaIUQZXCGDTFG1NblYaB2n3hPBFQHuZFa0VOIFCL7Wx7P7VE9LJXm0tdaCjsZPXoMnRTwGV/ha2orY40kqMPpjmXDTHQclm4Q3vgrXXyBhIilcyu3gRRN4YdIUfgAQ65/OlHB8iMzKEPpgLHVPKrR476edOXhNfl5fpujUXh7k2wYiZtvpPg/jI9bZEEqVI9I1Xd+Ea7XSSm5fo5lAP+c+ag7ANJbQcASFbzqF6S2h3PvUxj/8EG2sDB5oDn8QZgAAEOVSCSaGhbv8bDZo1nItTGcQAxzC9cpOxfNuY1qBXbnbqm3RM76LqCalJPgULMrIx9/tr47J8vxcuNJ+WndBbDp/atcOYX+rCtKCDFHVpFI7uDW/xzC0CJ49tx1r1rVWw2TsFIJHrEF/CZi9Z+7F3TvOSSvnark76kBu6zPH0/ukqBXKinMuhbHOEZNiVTcesNo3sxtpgyYvfac0Fcu6TaYuCV/7iMRTv8BjxsKPdPAgWXrnspVs+aEomXQLtYa5MmAhDNWxA8R8P0buGZJlbqsRQ+HTEUS0DYMc6yz79nt7FOp7UdBZAARkrB4XaIQ8+cyO/wW3usXRVYEXohngg8tHqpgiZ3sXrF5NjKLjkDn/ei4QYRmVxmnCifO/oAcAu/yC9Cd0O+vMMHeN4EQejNmGGlkvmqJS9a52VD58BYcBWlnNGUU3exLL9POmV3hSql3p95WLZrQO6aQkKUSSBuFaXUYU+MiVG9rg7AlcE+vJeSmjLZKC7ftFZR8RwEkgkqh3rTez0l75A30UzMDEnNqUaJpGPdAAZMR0JzyrQRhMKUuHTHBX3Smt2usKCiuATtKBTG+UPZKFf1IardkEIwc2nKpXrUMRJBvgipTQ8r7k4efIoWkNb+zaxywGjuauKh9C6eK3kTvKuLhEQvfFjyp050JaCPSAjMyVikjiPCZbzIuqJSH0fA1W/kaELx8RGD2sP4+Thx0LoYF3lbh1LZZqxB7wi9SKCEsFaDyhwcPur5TQPm7KdEnSROsDgPH5z9EpoAtnh4vq2xWaVoruyz+Asj5WoAnLeSAFzxXoIfePAWABBnqFaYmMQb5AnRyY/0Qrrv2bIsvMaO7yb2Sncz8qgRUFHCRhKKPk3nOBQ1gDWYnVV/OnoGvy+EZgWLZu7TJoC/W715xJXZjbSqTOgIF3TRLMLcY1HodDQylDJkoi9EYluAHpdUesZhVoHNcYtUIQMBLR4RaLuBD+Y5BxKDgSkWTBir4YnzRpIhuCCeMnHf/AKMJ72Ds9HNQswb8MxpSnmwFwydEu+wX1CnpS+2acUcVSVuU8o1XL/5h21WMsBQBCAw==\",\"token_type\":\"Bearer\",\"refresh_token\":\"M.C547_BAY.0.U.-ClamVdbC1AY*ahSG1hWXN6wWHO0Q1vN2JJ*R3iLObutw4580bD!OcJvXzIc0UuU*EQI3rm*zEQirdLI4ob0wlU9RD4aXVG78QSUBTimuKsY1CMkPLbrBz71RkgGt!Y7IgOIOHUN9AvV5ls8vDMDN7j*q4NUOGr7A56ZumTgWdvXiwGcvAdzq8G0m8z9VWgZrIInksO!5ssneyXxSYc4PAdzdEh1PreZoWvosZp8oKGZEOWcnR8UZo0cyOBmsMN0HrfleSGctV*OXRdap9d1goHk7mKLSuQEdAGnW4CTEccVSngyl7QoDyM!1Br0YEVhBBxYh6HoM70tfiK0VWvkn96bEWmLJS2dZS03aBuhUKagmkokvtQqjucAipuQuyly2yriwE!ZkiI!AuSYCTHEp4GZy3!xXqEg5!b9Z!BbmV4GFLsFGpHlOkhS7bFAFqBP1dg$$\",\"expiry\":\"2025-07-24T22:03:36.9101941+08:00\",\"expires_in\":3599}\n",
        "drive_id = 62DCE41F5DE89FFC\n",
        "drive_type = personal\n",
        "\"\"\"\n",
        "os.makedirs('/root/.config/rclone/', exist_ok=True)\n",
        "with open('/root/.config/rclone/rclone.conf', 'w') as f:\n",
        "  f.write(rclone_config)\n",
        "\n",
        "\n",
        "\n",
        "\n"
      ],
      "metadata": {
        "id": "8Mr3BFmxkS5t"
      },
      "execution_count": 6,
      "outputs": []
    },
    {
      "cell_type": "markdown",
      "source": [
        "查詢Onedrive裡面的資料"
      ],
      "metadata": {
        "id": "PXf_KosKl-xS"
      }
    },
    {
      "cell_type": "code",
      "source": [
        "!rclone ls onedrive:/"
      ],
      "metadata": {
        "id": "pVqiXgPmlV2X"
      },
      "execution_count": null,
      "outputs": []
    },
    {
      "cell_type": "code",
      "source": [
        "!rclone copy weather_summary.csv onedrive:colab/"
      ],
      "metadata": {
        "id": "17dkyWDXndHO"
      },
      "execution_count": 8,
      "outputs": []
    },
    {
      "cell_type": "code",
      "source": [
        "!rclone ls onedrive:colab/"
      ],
      "metadata": {
        "colab": {
          "base_uri": "https://localhost:8080/"
        },
        "id": "8qvh3OJjoIfu",
        "outputId": "a98b786a-20de-4c0e-ebd9-a64e931252b2"
      },
      "execution_count": 9,
      "outputs": [
        {
          "output_type": "stream",
          "name": "stdout",
          "text": [
            "      376 weather.csv\n",
            "      398 weather_summary.csv\n"
          ]
        }
      ]
    }
  ]
}